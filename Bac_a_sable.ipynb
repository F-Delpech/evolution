{
  "nbformat": 4,
  "nbformat_minor": 0,
  "metadata": {
    "colab": {
      "name": "Bac_a_sable.ipynb",
      "provenance": [],
      "authorship_tag": "ABX9TyNXXCCb+IU2yVbRxpDyze7J",
      "include_colab_link": true
    },
    "kernelspec": {
      "name": "python3",
      "display_name": "Python 3"
    }
  },
  "cells": [
    {
      "cell_type": "markdown",
      "metadata": {
        "id": "view-in-github",
        "colab_type": "text"
      },
      "source": [
        "<a href=\"https://colab.research.google.com/github/F-Delpech/evolution/blob/master/Bac_a_sable.ipynb\" target=\"_parent\"><img src=\"https://colab.research.google.com/assets/colab-badge.svg\" alt=\"Open In Colab\"/></a>"
      ]
    },
    {
      "cell_type": "markdown",
      "metadata": {
        "id": "FBViWkDKrDcM",
        "colab_type": "text"
      },
      "source": [
        "https://github.com/romainzimmer/s2net\n",
        "\n",
        "L’idée est de créer un réseau très simple:\n",
        "Un seul neurone en entrée, puis directement une couche readout (pas de couche cachée) avec 2 neurones, qui pondèrent l’entrée unique avec chacun leur poids, w_1 et w_2.\n",
        "\n",
        "On veut que : \n",
        "\n",
        "1) le neurone 1 réponde plus (c’est à dire ait un potentiel max plus élevé) que le 2 au pattern 1, qui consiste en deux spikes sur deux time bins consécutifs: 110….0\n",
        "\n",
        "2) le neurone 2 réponde plus que le 1 au pattern 2, qui consiste en 2 spikes séparés de 10 time bins: 10000000001\n",
        "\n",
        "Un paramètre important est le coefficient de fuite beta = exp(-delta_t/tau_m), compris entre 0 et 1. Avec beta = 1 le neurone ne fuit pas.\n",
        "Plus beta se rapproche de 0, plus la fuite est importante.\n",
        "\n",
        "On voit que si l’on utilise un même beta pour les neurones 1 et 2, le pb n’a pas de solution.\n",
        "La condition 1 impose w_1>w_2, et du coup la condition 2 n’est pas réalisable.\n",
        "\n",
        "Par contre, si chaque neurone a son beta, il y a une solution, par ex\n",
        "w_1=1 ; beta_1=0.8 ; w_2 = 0.8 ; beta_2 = proche de 1\n",
        "\n",
        "En gros le neurone 1 a un poids plus gros, mais il fuit plus, donc il ne répond bien qu'aux spikes synchrones.\n",
        "Le neurone 2 c’est l’inverse, son poids est plus faible mais il est tolérant sur la synchronie.\n",
        "La backpropagation, qui peut apprendre les poids et les betas, devrait trouver cette solution."
      ]
    },
    {
      "cell_type": "code",
      "metadata": {
        "id": "mQaSRG2VrzSw",
        "colab_type": "code",
        "colab": {
          "base_uri": "https://localhost:8080/",
          "height": 34
        },
        "outputId": "bb0bc596-ecf9-408a-cbf8-8b0b5599df7c"
      },
      "source": [
        "print(\"Test\")"
      ],
      "execution_count": 1,
      "outputs": [
        {
          "output_type": "stream",
          "text": [
            "Test\n"
          ],
          "name": "stdout"
        }
      ]
    },
    {
      "cell_type": "code",
      "metadata": {
        "id": "YnxIcREzsD-l",
        "colab_type": "code",
        "colab": {}
      },
      "source": [
        ""
      ],
      "execution_count": 0,
      "outputs": []
    }
  ]
}